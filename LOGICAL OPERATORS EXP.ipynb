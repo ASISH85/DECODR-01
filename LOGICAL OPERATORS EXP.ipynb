{
 "cells": [
  {
   "cell_type": "code",
   "execution_count": null,
   "id": "5e1e5c49",
   "metadata": {},
   "outputs": [],
   "source": [
    "### LOGICAL OPERATORS ARE : and,or,not"
   ]
  },
  {
   "cell_type": "code",
   "execution_count": 1,
   "id": "cf8f4836",
   "metadata": {},
   "outputs": [
    {
     "name": "stdout",
     "output_type": "stream",
     "text": [
      "True\n"
     ]
    }
   ],
   "source": [
    "## AND : Returns true if both statements are true. If one statement is are false then return is also FALSE.\n",
    "## Exp 01 : \n",
    "x=5\n",
    "print(x>3 and x<10)"
   ]
  },
  {
   "cell_type": "code",
   "execution_count": 4,
   "id": "d43b0c8b",
   "metadata": {},
   "outputs": [
    {
     "name": "stdout",
     "output_type": "stream",
     "text": [
      "False\n"
     ]
    }
   ],
   "source": [
    "##Exp 02:\n",
    "x=5\n",
    "print(x>3 and x<4)"
   ]
  },
  {
   "cell_type": "code",
   "execution_count": 5,
   "id": "e1fac3ad",
   "metadata": {},
   "outputs": [
    {
     "name": "stdout",
     "output_type": "stream",
     "text": [
      "True\n"
     ]
    }
   ],
   "source": [
    "## OR : Returns TRUE if any one statement is TRUE..\n",
    "##Exp 01:\n",
    "x=5\n",
    "print(x>7 or x<8)"
   ]
  },
  {
   "cell_type": "code",
   "execution_count": 6,
   "id": "a86420eb",
   "metadata": {},
   "outputs": [
    {
     "name": "stdout",
     "output_type": "stream",
     "text": [
      "False\n"
     ]
    }
   ],
   "source": [
    "## Exp 02:\n",
    "print(x>7 or x<4)"
   ]
  },
  {
   "cell_type": "code",
   "execution_count": 8,
   "id": "32536eae",
   "metadata": {},
   "outputs": [
    {
     "name": "stdout",
     "output_type": "stream",
     "text": [
      "False\n"
     ]
    }
   ],
   "source": [
    "## Exp 03: ## In this case both the statement are false so return is also FALSE.\n",
    "print(x>6 or x<3)"
   ]
  },
  {
   "cell_type": "code",
   "execution_count": 11,
   "id": "f2e47e9a",
   "metadata": {},
   "outputs": [
    {
     "name": "stdout",
     "output_type": "stream",
     "text": [
      "True\n"
     ]
    }
   ],
   "source": [
    "## NOT : Reverse the result.\n",
    "## Exp 01:\n",
    "x=50\n",
    "print(not(x>40 and x<60))"
   ]
  },
  {
   "cell_type": "code",
   "execution_count": 13,
   "id": "afade3af",
   "metadata": {},
   "outputs": [
    {
     "name": "stdout",
     "output_type": "stream",
     "text": [
      "False\n"
     ]
    }
   ],
   "source": [
    "##Exp 02:\n",
    "x=50\n",
    "print(not(x>60 or x<55))"
   ]
  },
  {
   "cell_type": "code",
   "execution_count": 1,
   "id": "80fd0b12",
   "metadata": {},
   "outputs": [
    {
     "name": "stdout",
     "output_type": "stream",
     "text": [
      "False\n"
     ]
    }
   ],
   "source": [
    "### Equal to Operator Code\n",
    "##Exp 01:\n",
    "a=11\n",
    "b=22\n",
    "print(a==b)"
   ]
  },
  {
   "cell_type": "markdown",
   "id": "7f1580bd",
   "metadata": {},
   "source": [
    "## Return false as 11 is not equal to 22"
   ]
  },
  {
   "cell_type": "code",
   "execution_count": 3,
   "id": "f2595edb",
   "metadata": {},
   "outputs": [
    {
     "name": "stdout",
     "output_type": "stream",
     "text": [
      "True\n"
     ]
    }
   ],
   "source": [
    "## Exp 02:\n",
    "x=66\n",
    "b=33\n",
    "print(x==(b*2))"
   ]
  },
  {
   "cell_type": "markdown",
   "id": "33f1e9a1",
   "metadata": {},
   "source": [
    "## Return True as x is equal to b in this case...66=33*2"
   ]
  },
  {
   "cell_type": "code",
   "execution_count": 5,
   "id": "6dc9dcde",
   "metadata": {},
   "outputs": [
    {
     "name": "stdout",
     "output_type": "stream",
     "text": [
      "False True\n"
     ]
    }
   ],
   "source": [
    "### Code for greater than(>) operator.\n",
    "x=10\n",
    "y=20\n",
    "print((x>y),(y>x))"
   ]
  },
  {
   "cell_type": "code",
   "execution_count": null,
   "id": "20e74e2f",
   "metadata": {},
   "outputs": [],
   "source": []
  }
 ],
 "metadata": {
  "kernelspec": {
   "display_name": "Python 3",
   "language": "python",
   "name": "python3"
  },
  "language_info": {
   "codemirror_mode": {
    "name": "ipython",
    "version": 3
   },
   "file_extension": ".py",
   "mimetype": "text/x-python",
   "name": "python",
   "nbconvert_exporter": "python",
   "pygments_lexer": "ipython3",
   "version": "3.8.8"
  }
 },
 "nbformat": 4,
 "nbformat_minor": 5
}
